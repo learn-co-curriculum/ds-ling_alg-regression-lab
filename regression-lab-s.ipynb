{
 "cells": [
  {
   "cell_type": "markdown",
   "metadata": {},
   "source": [
    "# Regression Analysis using Linear Algebra - Lab\n",
    "## Objectives:\n",
    "\n",
    "* Use linear algebra to apply simple regression modeling.\n",
    "* Process the data in numpy to get it ready for data modeling.\n",
    "* Fit a function to data, describing linear mappings between input and output variables.\n",
    "* Make predictions from the fitted model using previously unseen input features. \n",
    "* Evaluate the fitted model by calculating the error between real and predicted values.\n",
    "\n",
    "## Introduction\n",
    "\n",
    "In this lab, we shall apply regression analysis using simple matrix manipulations to fit a model to given data, and then predict new values for previously unseen data. We shall follow the approach highlighted in previous lesson where we use numpy to build the appropriate matrices and vectors and solve for the $\\beta$ vector. \n",
    "\n",
    "The beta vector will be used with test data to make new predictions. We shall also evaluate how good our model fit was. \n",
    "\n",
    "First let's import necessary libraries "
   ]
  },
  {
   "cell_type": "code",
   "execution_count": 2,
   "metadata": {},
   "outputs": [],
   "source": [
    "import csv # for reading csv file\n",
    "import numpy as np"
   ]
  },
  {
   "cell_type": "markdown",
   "metadata": {},
   "source": [
    "## Dataset \n",
    "\n",
    "The dataset we will use for this experiment is \"Sales Prices in the City of Windsor, Canada\".  This dataset contains a number of input (independent) variables, including area, number of bedrooms/bathrooms, facilities(AC/garage) etc. and an output (dependent) variable, **price**. We shall formulate a linear algebra problem to find linear mappings from input to out features using the equation provided in the previous lesson. \n",
    "\n",
    "This will allow us to find a relationship between house features and house price for the given data, allowing us to find unknown prices for houses, given the input features.  \n",
    "\n",
    "A description of dataset and included features is available at [THIS LINK](https://rdrr.io/cran/Ecdat/man/Housing.html)\n",
    "\n",
    "In our dataset, there are 11 input features (first 11 columns):\n",
    "\n",
    "\tlotsize\tbedrooms\tbathrms\tstories\tdriveway\trecroom\tfullbase\tgashw\tairco\tgaragepl\tprefarea\n",
    "\n",
    "and 1 outfeature i.e. price (12th column). "
   ]
  },
  {
   "cell_type": "markdown",
   "metadata": {},
   "source": [
    "## Prepare Data for Modeling \n",
    "\n",
    "Let's give you a head start by importing the dataset. We shall perform following steps to get the data ready for analysis:\n",
    "\n",
    "* Initialize empty lists for input and output features.\n",
    "* Read the csv file containing complete (raw) data.\n",
    "* Drop the first row of dataset as it contains the names of variables which won't be used during analysis.\n",
    "* Create the X matrix (all columns but the last one)\n",
    "* Append a column of all 1s to the X (bias). \n",
    "* Create the y vector which is the last column in the dataset. \n"
   ]
  },
  {
   "cell_type": "code",
   "execution_count": 32,
   "metadata": {},
   "outputs": [],
   "source": [
    "# Create Empty lists for storing X and y values. \n",
    "X_raw = []\n",
    "y_raw = []\n",
    "\n",
    "#Read the data from the csv file\n",
    "with open('Housing_new.csv') as f:\n",
    "    data = csv.reader(f)\n",
    "    # Drop the very first line as it contains names for columns - not actual data.\n",
    "    next(data)\n",
    "    # Read X and y\n",
    "    for row in data:\n",
    "        ones = [1.0]\n",
    "        for r in row[:-1]:\n",
    "            ones.append(float(r))\n",
    "        X_raw.append(ones)\n",
    "        y_raw.append(float(row[-1]))"
   ]
  },
  {
   "cell_type": "markdown",
   "metadata": {},
   "source": [
    "We shall now calculate the length of X_raw and use this length value to convert all but last 10 elements of X_raw into a numpy array, as the X vector. The left out values will be later used for testing the accuracy of the model."
   ]
  },
  {
   "cell_type": "code",
   "execution_count": 59,
   "metadata": {},
   "outputs": [],
   "source": [
    "# Convert all but the last 10 rows of the input data to numpy arrays\n",
    "length = len(X_raw)-10\n",
    "X = np.array(X_raw[:length])"
   ]
  },
  {
   "cell_type": "markdown",
   "metadata": {},
   "source": [
    "Do the same with y_raw and create the y vector (containing all but last 10 values of y_raw)"
   ]
  },
  {
   "cell_type": "code",
   "execution_count": 60,
   "metadata": {},
   "outputs": [],
   "source": [
    "# Convert all but the last 10 rows of the output data to numpy arrays and transpose\n",
    "y = np.transpose(np.array([y_raw[:length]]))"
   ]
  },
  {
   "cell_type": "markdown",
   "metadata": {},
   "source": [
    "## Calculate the `beta` \n",
    "\n",
    "With our X and y in place, We can now compute our beta value as:\n",
    "<center><bold> $\\beta$ = (X<sup>T</sup> . X)<sup>-1</sup> . X<sup>T</sup> . y </center> \n",
    "\n",
    "using numpy operations (transpose, inverse) that we saw earlier, compute the above equation in steps as required below:"
   ]
  },
  {
   "cell_type": "code",
   "execution_count": 35,
   "metadata": {},
   "outputs": [],
   "source": [
    "# Calculate Xt.X and Xt.y\n",
    "Xt = np.transpose(X)\n",
    "XtX = np.dot(Xt,X)\n",
    "Xty = np.dot(Xt,y)"
   ]
  },
  {
   "cell_type": "code",
   "execution_count": 36,
   "metadata": {},
   "outputs": [],
   "source": [
    "# Calculate inverse of Xt.X\n",
    "XtX_inv = np.linalg.inv(XtX)"
   ]
  },
  {
   "cell_type": "code",
   "execution_count": 37,
   "metadata": {},
   "outputs": [],
   "source": [
    "# Take the dot product of XtX_inv with Xty to compute beta\n",
    "beta = XtX_inv.dot(Xty)"
   ]
  },
  {
   "cell_type": "code",
   "execution_count": 38,
   "metadata": {},
   "outputs": [
    {
     "name": "stdout",
     "output_type": "stream",
     "text": [
      "[[-4.14106096e+03]\n",
      " [ 3.55197583e+00]\n",
      " [ 1.66328263e+03]\n",
      " [ 1.45465644e+04]\n",
      " [ 6.77755381e+03]\n",
      " [ 6.58750520e+03]\n",
      " [ 4.44683380e+03]\n",
      " [ 5.60834856e+03]\n",
      " [ 1.27979572e+04]\n",
      " [ 1.24091640e+04]\n",
      " [ 4.19931185e+03]\n",
      " [ 9.42215457e+03]]\n"
     ]
    }
   ],
   "source": [
    "# Print the values of computed beta\n",
    "print(beta)"
   ]
  },
  {
   "cell_type": "markdown",
   "metadata": {},
   "source": [
    "## Make Predictions\n",
    "Great , we now have a set of coefficients that describe the linear mappings between X and y. We can now use the calculated beta values  with the last 10 X values that we left out to calculate y predictions. For this we need to perform the following tasks:\n",
    "\n",
    "* Create X_test and Y_test from last 10 rows of X_raw and y_raw as new numpy arrays\n"
   ]
  },
  {
   "cell_type": "code",
   "execution_count": 39,
   "metadata": {},
   "outputs": [],
   "source": [
    "# Create new arrays with last 10 values of raw data\n",
    "X_test = np.array(X_raw[length:])\n",
    "y_test = np.array(y_raw[length:])"
   ]
  },
  {
   "cell_type": "markdown",
   "metadata": {},
   "source": [
    "Now we shall all features in each row in turn and multiply it with the beta computed above. The result will give a prediction for each row which we can append to a new array of predictions.\n",
    "\n",
    "</br>\n",
    "<center>\n",
    "$\\hat{y}$ = x.$\\beta$ = $\\beta$<sub>0</sub> + $\\beta$<sub>1</sub> . x<sub>1</sub> + $\\beta$<sub>2</sub> . x<sub>2</sub> + .. + $\\beta$<sub>m</sub> . x<sub>m</sub>\n",
    "</center>\n",
    "\n",
    "* Create new list (y_pred) for saving predictions.\n",
    "* For each row of X_test, take the dot product of the row with beta to calculate the prediction for that row.\n",
    "* Append the predictions to y_pred.\n",
    "* Print the new set of predictions."
   ]
  },
  {
   "cell_type": "code",
   "execution_count": 40,
   "metadata": {},
   "outputs": [
    {
     "data": {
      "text/plain": [
       "[array([97360.65509691]),\n",
       " array([71774.16590137]),\n",
       " array([92359.0891976]),\n",
       " array([77748.27423791]),\n",
       " array([91015.59030664]),\n",
       " array([97545.11790473]),\n",
       " array([97360.65509691]),\n",
       " array([106006.80075598]),\n",
       " array([92451.69312695]),\n",
       " array([73458.2949381])]"
      ]
     },
     "execution_count": 40,
     "metadata": {},
     "output_type": "execute_result"
    }
   ],
   "source": [
    "# Calculate and print predictions for each row of X_test\n",
    "y_pred = []\n",
    "for row in X_test:\n",
    "    pred = row.dot(beta)\n",
    "    y_pred.append(pred)\n",
    "y_pred"
   ]
  },
  {
   "cell_type": "markdown",
   "metadata": {},
   "source": [
    "## Evaluate Model \n",
    "This is exciting, so now our model can use the beta value to predict the price of houses given the input features. Let's plot these predictions against the actual values in y_test to see how much our model deviates. "
   ]
  },
  {
   "cell_type": "code",
   "execution_count": 63,
   "metadata": {},
   "outputs": [
    {
     "data": {
      "image/png": "[encoded data removed]",
      "text/plain": [
       "<matplotlib.figure.Figure at 0x112e1bbe0>"
      ]
     },
     "metadata": {},
     "output_type": "display_data"
    }
   ],
   "source": [
    "# Plot predicted and actual values as line plots\n",
    "import matplotlib.pyplot as plt\n",
    "plt.plot(y_pred, linestyle='-', marker='o', label='predictions')\n",
    "plt.plot(y_test, linestyle='-', marker='o', label='actual values')\n",
    "plt.legend()\n",
    "plt.show()"
   ]
  },
  {
   "cell_type": "markdown",
   "metadata": {},
   "source": [
    "This doesn't look so bad, does it ? Our model, although isn't perfect at this stage, is making a good attempt to predict house prices. The very last prediction seems a bit out. There could a number of reasons for this, which we shall cover in our course in detail. Let's try to dig a bit deeper to check model's predictive abilities by comparing these prediction with actual values of y_test individually. The difference between two vectors will reflect how good (or poor) our model is. \n",
    "Perform following steps to achieve this:\n"
   ]
  },
  {
   "cell_type": "markdown",
   "metadata": {},
   "source": [
    "* Initialize an empty array `err`.\n",
    "* for each row in y_test and y_pred, take the **absolute** difference as we are not concerned with +ve and -ve values at this stage.\n",
    "* Append error for each row in err array. \n",
    "* Print err"
   ]
  },
  {
   "cell_type": "code",
   "execution_count": 41,
   "metadata": {},
   "outputs": [
    {
     "data": {
      "text/plain": [
       "[array([14860.65509691]),\n",
       " array([11225.83409863]),\n",
       " array([8359.0891976]),\n",
       " array([7251.72576209]),\n",
       " array([6015.59030664]),\n",
       " array([6045.11790473]),\n",
       " array([3360.65509691]),\n",
       " array([3006.80075598]),\n",
       " array([12548.30687305]),\n",
       " array([31541.7050619])]"
      ]
     },
     "execution_count": 41,
     "metadata": {},
     "output_type": "execute_result"
    }
   ],
   "source": [
    "err = []\n",
    "for pred,actual in zip(y_pred,y_test):\n",
    "    diff = abs(pred - actual)\n",
    "    err.append(diff)\n",
    "err"
   ]
  },
  {
   "cell_type": "markdown",
   "metadata": {},
   "source": [
    "So our err array tells us that the predictions have errors ranging from around 3000 , and up to 13,00. Let's take an average of this array to get a better picture with average error. "
   ]
  },
  {
   "cell_type": "code",
   "execution_count": 42,
   "metadata": {},
   "outputs": [
    {
     "data": {
      "text/plain": [
       "10421.548015445573"
      ]
     },
     "execution_count": 42,
     "metadata": {},
     "output_type": "execute_result"
    }
   ],
   "source": [
    "# Take the average error\n",
    "err = np.array(err)\n",
    "np.average(err)"
   ]
  },
  {
   "cell_type": "markdown",
   "metadata": {},
   "source": [
    "## Conclusion\n",
    "\n",
    "So there we have it. A predictive model for predicting house prices in a given dataset, with an average error of roughly 10,000 dollars. Remember this is a very naive implementation of regression modeling. The purpose here was to get an introduction to the applications of linear algebra into machine learning and predictive analysis. We still have a number of shortcomings in our modeling approach and we can further apply a number of data modeling techniques to improve this model, as we shall see in following section which is dedicated to regression analysis. "
   ]
  },
  {
   "cell_type": "code",
   "execution_count": null,
   "metadata": {},
   "outputs": [],
   "source": []
  }
 ],
 "metadata": {
  "kernelspec": {
   "display_name": "Python 3",
   "language": "python",
   "name": "python3"
  },
  "language_info": {
   "codemirror_mode": {
    "name": "ipython",
    "version": 3
   },
   "file_extension": ".py",
   "mimetype": "text/x-python",
   "name": "python",
   "nbconvert_exporter": "python",
   "pygments_lexer": "ipython3",
   "version": "3.6.4"
  }
 },
 "nbformat": 4,
 "nbformat_minor": 2
}
